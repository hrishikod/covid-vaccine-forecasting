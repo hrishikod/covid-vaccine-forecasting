{
    "cells": [
        {
            "cell_type": "markdown",
            "source": [
                "Header"
            ],
            "metadata": {}
        },
        {
            "cell_type": "code",
            "execution_count": 1,
            "source": [
                "from vaccination_forecaster_io import *\r\n",
                "import datetime\r\n",
                "import math\r\n",
                "import numpy as np\r\n",
                "import scipy.optimize as optimize\r\n",
                "import matplotlib.pyplot as plt\r\n",
                "from sklearn.metrics import mean_squared_error"
            ],
            "outputs": [],
            "metadata": {}
        },
        {
            "cell_type": "code",
            "execution_count": 2,
            "source": [
                "path = \"../data/covid_vaccine.xlsx\"\r\n",
                "initial_table = pd.read_excel(path, engine=\"openpyxl\")\r\n",
                "cleaned_table = clean_excel_table(initial_table)\r\n"
            ],
            "outputs": [],
            "metadata": {}
        },
        {
            "cell_type": "code",
            "execution_count": 3,
            "source": [
                "def generate_daily_differences(panda_data_frame_column, column_name):\r\n",
                "\t'''\r\n",
                "\tThis function will take an input column and compute the differences \r\n",
                "\tbetween each row and output another column\r\n",
                "\t'''\r\n",
                "\tinital_list = [panda_data_frame_column[0]]\r\n",
                "\r\n",
                "\tfor index, row in enumerate(panda_data_frame_column.items()):\r\n",
                "\t\tif index > 0:\r\n",
                "\t\t\tinital_list.append(\r\n",
                "\t\t\t\tpanda_data_frame_column[index]-panda_data_frame_column[index-1])\r\n",
                "\r\n",
                "\tcolumn = pd.Series(inital_list)\r\n",
                "\tcolumn.name = column_name\r\n",
                "\treturn column\r\n"
            ],
            "outputs": [],
            "metadata": {}
        },
        {
            "cell_type": "code",
            "execution_count": 4,
            "source": [
                "def calculate_date_difference(input_date):\r\n",
                "\t'''\r\n",
                "\tCalculates the difference in dates since the 14th of September\r\n",
                "\t'''\r\n",
                "\tdate_format = \"%d-%m-%Y\"\r\n",
                "\toriginal_date = datetime.datetime.strptime(\"14-09-2021\", date_format)\r\n",
                "\tnew_date = datetime.datetime.strptime(input_date, date_format)\r\n",
                "\r\n",
                "\tdate_diff = new_date-original_date\r\n",
                "\r\n",
                "\treturn date_diff.days\r\n",
                "\r\n",
                "def calculate_new_input_value(difference):\r\n",
                "\t'''\r\n",
                "\tGets the new input value for the function\r\n",
                "\tWARNING!!!!!!!!! ORIGINAL END INDEX IS HARD CODED AS 207.... THIS IS BASED ON LENGTH OF DATASET\r\n",
                "\t'''\r\n",
                "\t# THIS IS DANGEROUS HERE, I KNOW... BUT I'M LAZY\r\n",
                "\toriginal_input_value = 207\r\n",
                "\r\n",
                "\tnew_input_value = original_input_value + difference\r\n",
                "\r\n",
                "\treturn new_input_value\r\n",
                "\r\n",
                "def calculate_estimate_at_given_date(logistic_function,parameter_tuple,date_string):\r\n",
                "\t'''\r\n",
                "\tThis function calcuates the predicted vaccination at a given date.\r\n",
                "\tParameter tuple should be ordered (b,c)\r\n",
                "\t'''\r\n",
                "\r\n",
                "\tdate_difference = calculate_date_difference(date_string)\r\n",
                "\r\n",
                "\tnew_date_index = calculate_new_input_value(date_difference)\r\n",
                "\r\n",
                "\tnew_estimate = logistic_function(new_date_index,parameter_tuple[0],parameter_tuple[1])\r\n",
                "\r\n",
                "\treturn new_estimate\r\n",
                "\r\n"
            ],
            "outputs": [],
            "metadata": {}
        },
        {
            "cell_type": "code",
            "execution_count": 5,
            "source": [
                "def run_parameter_optimisation(logistic_function_vectorised, x_input, y_input, p0_array, bounds_array):\r\n",
                "\t'''\r\n",
                "\tFunction for running the curve fit function function\r\n",
                "\t'''\r\n",
                "\treturn optimize.curve_fit(logistic_function_vectorised, x_input, y_input, bounds = bounds_array, p0 = p0_array)\r\n",
                "\r\n"
            ],
            "outputs": [],
            "metadata": {}
        },
        {
            "cell_type": "code",
            "execution_count": 6,
            "source": [
                "daily_first_vaccines = generate_daily_differences(\r\n",
                "\tcleaned_table.people_vaccinated, \"daily_first_vaccines\")\r\n",
                "daily_second_vaccines = generate_daily_differences(\r\n",
                "    cleaned_table.people_fully_vaccinated, \"daily_second_vaccines\")\r\n"
            ],
            "outputs": [],
            "metadata": {}
        },
        {
            "cell_type": "code",
            "execution_count": 7,
            "source": [
                "def first_vaccine_logistic(t,b,c):\r\n",
                "\t'''\r\n",
                "\tt: timestep\r\n",
                "\ta: maximum population\r\n",
                "\tb: rate of vaccination\r\n",
                "\tc: shift \r\n",
                "\t'''\r\n",
                "\ta = 4.9e6\r\n",
                "\treturn (a/(1 + math.exp(-b*(t-c))))\r\n",
                "\r\n",
                "def second_vaccine_logistic(t,b,c):\r\n",
                "\ta = 4.9e6\r\n",
                "\treturn (a/(1 + math.exp(-b*(t-c))))\r\n",
                "\r\n",
                "\r\n",
                "\r\n",
                "\r\n",
                "first_logistic_vectorised = np.vectorize(first_vaccine_logistic)\r\n",
                "second_logistic_vectorised = np.vectorize(second_vaccine_logistic)\r\n"
            ],
            "outputs": [],
            "metadata": {}
        },
        {
            "cell_type": "code",
            "execution_count": 8,
            "source": [
                "table_len = len(cleaned_table)\r\n",
                "index_vec = np.array(list(range(table_len)))"
            ],
            "outputs": [],
            "metadata": {}
        },
        {
            "cell_type": "code",
            "execution_count": 9,
            "source": [
                "split_index = 199\r\n",
                "training_dataset = cleaned_table[0:split_index]\r\n",
                "testing_dataset = cleaned_table[split_index:-1]\r\n",
                "\r\n",
                "training_x = index_vec[0:split_index]\r\n",
                "training_y_first = np.array(training_dataset[\"people_vaccinated\"])\r\n",
                "training_y_second = np.array(training_dataset[\"people_fully_vaccinated\"])\r\n",
                "\r\n",
                "testing_x = index_vec[split_index:-1]\r\n",
                "testing_y_first = np.array(testing_dataset[\"people_vaccinated\"])\r\n",
                "testing_y_second = np.array(testing_dataset[\"people_fully_vaccinated\"])\r\n"
            ],
            "outputs": [],
            "metadata": {}
        },
        {
            "cell_type": "code",
            "execution_count": 10,
            "source": [
                "p0 = np.array([0.01, 0])\r\n",
                "\r\n",
                "bounds = (0, [0.05, 1000])\r\n"
            ],
            "outputs": [],
            "metadata": {}
        },
        {
            "cell_type": "code",
            "execution_count": 11,
            "source": [
                "(b_first, c_first), cov_first = run_parameter_optimisation(\r\n",
                "    first_logistic_vectorised, training_x, training_y_first, p0, bounds)\r\n",
                "# plt.plot(training_x, first_logistic_vectorised(training_x, b_first, c_first))\r\n",
                "\r\n",
                "first_vaccine_function_testing_estimation = first_logistic_vectorised(\r\n",
                "    testing_x, b_first, c_first)\r\n",
                "first_vaccine_function_training_estimation = first_logistic_vectorised(\r\n",
                "    training_x, b_first, c_first)\r\n",
                "\r\n",
                "rmse_testing_first = mean_squared_error(\r\n",
                "    first_vaccine_function_testing_estimation, testing_y_first, squared=False)\r\n",
                "rmse_training_first = mean_squared_error(\r\n",
                "    first_vaccine_function_training_estimation, training_y_first, squared=False)\r\n",
                "\r\n",
                "\r\n",
                "\r\n",
                "calculate_estimate_at_given_date(first_vaccine_logistic, (b_first, c_first), \"15-09-2021\")\r\n"
            ],
            "outputs": [
                {
                    "output_type": "execute_result",
                    "data": {
                        "text/plain": [
                            "2583054.265110246"
                        ]
                    },
                    "metadata": {},
                    "execution_count": 11
                }
            ],
            "metadata": {}
        },
        {
            "cell_type": "code",
            "execution_count": 14,
            "source": [
                "(b_second, c_second), cov_second = run_parameter_optimisation(\r\n",
                "    second_logistic_vectorised, training_x, training_y_second, p0, bounds)\r\n",
                "\r\n",
                "second_vaccine_function_testing_estimation = second_logistic_vectorised(\r\n",
                "    testing_x, b_second, c_second)\r\n",
                "second_vaccine_function_training_estimation = second_logistic_vectorised(\r\n",
                "    training_x, b_second, c_second)\r\n",
                "\r\n",
                "rmse_testing_second = mean_squared_error(\r\n",
                "    second_vaccine_function_testing_estimation, testing_y_second, squared=False)\r\n",
                "rmse_training_second = mean_squared_error(\r\n",
                "    second_vaccine_function_training_estimation, training_y_second, squared=False)\r\n"
            ],
            "outputs": [],
            "metadata": {}
        },
        {
            "cell_type": "code",
            "execution_count": 15,
            "source": [
                "calculate_estimate_at_given_date(\r\n",
                "    second_vaccine_logistic, (b_second, c_second) ,\"15-09-2021\")\r\n"
            ],
            "outputs": [
                {
                    "output_type": "execute_result",
                    "data": {
                        "text/plain": [
                            "1541982.2477657795"
                        ]
                    },
                    "metadata": {},
                    "execution_count": 15
                }
            ],
            "metadata": {}
        }
    ],
    "metadata": {
        "orig_nbformat": 4,
        "language_info": {
            "name": "python",
            "version": "3.9.0",
            "mimetype": "text/x-python",
            "codemirror_mode": {
                "name": "ipython",
                "version": 3
            },
            "pygments_lexer": "ipython3",
            "nbconvert_exporter": "python",
            "file_extension": ".py"
        },
        "kernelspec": {
            "name": "python3",
            "display_name": "Python 3.9.0 64-bit"
        },
        "interpreter": {
            "hash": "0f022eebabd442ed53729c4f53b28880bfba1bc80db149e1074c62cd0f988aef"
        }
    },
    "nbformat": 4,
    "nbformat_minor": 2
}