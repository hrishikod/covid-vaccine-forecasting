{
    "cells": [
        {
            "cell_type": "markdown",
            "source": [
                "Header"
            ],
            "metadata": {}
        },
        {
            "cell_type": "code",
            "execution_count": null,
            "source": [
                "from vaccination_forecaster_io import *\r\n",
                "import datetime\r\n",
                "import math\r\n",
                "import numpy as np\r\n",
                "import scipy.optimize as optimize\r\n",
                "import matplotlip.pyplot as plt\r\n",
                "\r\n"
            ],
            "outputs": [],
            "metadata": {}
        }
    ],
    "metadata": {
        "orig_nbformat": 4,
        "language_info": {
            "name": "python"
        }
    },
    "nbformat": 4,
    "nbformat_minor": 2
}