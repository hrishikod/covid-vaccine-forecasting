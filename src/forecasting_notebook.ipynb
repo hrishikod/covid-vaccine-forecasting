{
    "cells": [
        {
            "cell_type": "markdown",
            "source": [
                "Header"
            ],
            "metadata": {}
        },
        {
            "cell_type": "code",
            "execution_count": 2,
            "source": [
                "from vaccination_forecaster_io import *\r\n",
                "import datetime\r\n",
                "import math\r\n",
                "import numpy as np\r\n",
                "import scipy.optimize as optimize\r\n",
                "import matplotlib.pyplot as plt"
            ],
            "outputs": [],
            "metadata": {}
        },
        {
            "cell_type": "code",
            "execution_count": 3,
            "source": [
                "path = \"../data/covid_vaccine.xlsx\"\r\n",
                "initial_table = pd.read_excel(path, engine=\"openpyxl\")\r\n",
                "cleaned_table = clean_excel_table(initial_table)\r\n"
            ],
            "outputs": [],
            "metadata": {}
        },
        {
            "cell_type": "code",
            "execution_count": 4,
            "source": [
                "def generate_daily_differences(panda_data_frame_column, column_name):\r\n",
                "\t'''\r\n",
                "\tThis function will take an input column and compute the differences \r\n",
                "\tbetween each row and output another column\r\n",
                "\t'''\r\n",
                "\tinital_list = [panda_data_frame_column[0]]\r\n",
                "\r\n",
                "\tfor index, row in enumerate(panda_data_frame_column.items()):\r\n",
                "\t\tif index > 0:\r\n",
                "\t\t\tinital_list.append(\r\n",
                "\t\t\t\tpanda_data_frame_column[index]-panda_data_frame_column[index-1])\r\n",
                "\r\n",
                "\tcolumn = pd.Series(inital_list)\r\n",
                "\tcolumn.name = column_name\r\n",
                "\treturn column\r\n"
            ],
            "outputs": [],
            "metadata": {}
        },
        {
            "cell_type": "code",
            "execution_count": 5,
            "source": [
                "daily_first_vaccines = generate_daily_differences(\r\n",
                "\tcleaned_table.people_vaccinated, \"daily_first_vaccines\")\r\n",
                "daily_second_vaccines = generate_daily_differences(\r\n",
                "    cleaned_table.people_fully_vaccinated, \"daily_second_vaccines\")\r\n"
            ],
            "outputs": [
                {
                    "output_type": "error",
                    "ename": "NameError",
                    "evalue": "name 'clean_table' is not defined",
                    "traceback": [
                        "\u001b[1;31m---------------------------------------------------------------------------\u001b[0m",
                        "\u001b[1;31mNameError\u001b[0m                                 Traceback (most recent call last)",
                        "\u001b[1;32m~\\AppData\\Local\\Temp/ipykernel_16904/1638623450.py\u001b[0m in \u001b[0;36m<module>\u001b[1;34m\u001b[0m\n\u001b[0;32m      1\u001b[0m daily_first_vaccines = generate_daily_differences(\n\u001b[1;32m----> 2\u001b[1;33m \tclean_table.people_vaccinated, \"daily_first_vaccines\")\n\u001b[0m\u001b[0;32m      3\u001b[0m daily_second_vaccines = generate_daily_differences(\n\u001b[0;32m      4\u001b[0m     clean_table.people_fully_vaccinated, \"daily_second_vaccines\")\n",
                        "\u001b[1;31mNameError\u001b[0m: name 'clean_table' is not defined"
                    ]
                }
            ],
            "metadata": {}
        }
    ],
    "metadata": {
        "orig_nbformat": 4,
        "language_info": {
            "name": "python",
            "version": "3.9.0",
            "mimetype": "text/x-python",
            "codemirror_mode": {
                "name": "ipython",
                "version": 3
            },
            "pygments_lexer": "ipython3",
            "nbconvert_exporter": "python",
            "file_extension": ".py"
        },
        "kernelspec": {
            "name": "python3",
            "display_name": "Python 3.9.0 64-bit"
        },
        "interpreter": {
            "hash": "0f022eebabd442ed53729c4f53b28880bfba1bc80db149e1074c62cd0f988aef"
        }
    },
    "nbformat": 4,
    "nbformat_minor": 2
}